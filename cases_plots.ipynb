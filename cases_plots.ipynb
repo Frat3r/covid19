{
 "cells": [
  {
   "cell_type": "code",
   "execution_count": null,
   "metadata": {},
   "outputs": [],
   "source": [
    "from create_plots import *"
   ]
  },
  {
   "cell_type": "code",
   "execution_count": null,
   "metadata": {},
   "outputs": [],
   "source": [
    "plot_covid19(transformed_cases, countries_to_plot, x='Date', y='Value', color='Country',\n",
    "             title='Cases by country',\n",
    "             labels={'Value': 'Number of cases'})"
   ]
  },
  {
   "cell_type": "code",
   "execution_count": null,
   "metadata": {},
   "outputs": [],
   "source": [
    "plot_covid19(transformed_cases, countries_to_plot, x='Days_after_outbreak1', y='Value', color='Country',\n",
    "             title='Cases by country since 1st case',\n",
    "             labels={'Days_after_outbreak1': 'Days since 1st case', 'Value': 'Number of cases'})"
   ]
  },
  {
   "cell_type": "code",
   "execution_count": null,
   "metadata": {},
   "outputs": [],
   "source": [
    "plot_covid19(transformed_cases, countries_to_plot, x='Days_after_outbreak50', y='Value', color='Country',\n",
    "             title='Cases by country since 50th case',\n",
    "             labels={'Days_after_outbreak50': 'Days since 50th case', 'Value': 'Number of cases'})"
   ]
  },
  {
   "cell_type": "code",
   "execution_count": null,
   "metadata": {},
   "outputs": [],
   "source": [
    "plot_covid19(transformed_cases, countries_to_plot, x='Days_after_outbreak100', y='Value', color='Country',\n",
    "             title='Cases by country since 100th case',\n",
    "             labels={'Days_after_outbreak100': 'Days since 100th case', 'Value': 'Number of cases'})"
   ]
  }
 ],
 "metadata": {
  "kernelspec": {
   "display_name": "Python 3",
   "language": "python",
   "name": "python3"
  },
  "language_info": {
   "codemirror_mode": {
    "name": "ipython",
    "version": 3
   },
   "file_extension": ".py",
   "mimetype": "text/x-python",
   "name": "python",
   "nbconvert_exporter": "python",
   "pygments_lexer": "ipython3",
   "version": "3.7.6"
  }
 },
 "nbformat": 4,
 "nbformat_minor": 4
}
